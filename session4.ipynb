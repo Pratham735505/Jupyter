{
 "cells": [
  {
   "cell_type": "markdown",
   "id": "ce188d24-1c1a-4f03-93c4-503b9a9a79f0",
   "metadata": {},
   "source": [
    "# Session 4\n",
    "# List : It is a dynamic array in which we can assign multiple types of data at the same time for ex : \n"
   ]
  },
  {
   "cell_type": "code",
   "execution_count": 3,
   "id": "b953aad9-839d-4e84-b96a-451d0ea0b42e",
   "metadata": {},
   "outputs": [
    {
     "data": {
      "text/plain": [
       "[20, 30, 40, 'Binod', 1.23, True, (7+7j)]"
      ]
     },
     "execution_count": 3,
     "metadata": {},
     "output_type": "execute_result"
    }
   ],
   "source": [
    "L=[20,30,40,'Binod',1.23,True,7+7j]\n",
    "L\n"
   ]
  },
  {
   "cell_type": "markdown",
   "id": "b28bf857-fe51-4c1b-823b-cb9942baa1ff",
   "metadata": {},
   "source": [
    "Give the difference between array and list\n",
    "list is dynamic has heterogeneous data, \n",
    "array is fixed, homogeneous\n",
    "array is speedy cause same datatype and continuosly stored, memory less\n",
    "list less steep and has high memory"
   ]
  },
  {
   "cell_type": "code",
   "execution_count": 13,
   "id": "174e1dbe-24d8-4e7f-a700-53fdfe08cb18",
   "metadata": {},
   "outputs": [
    {
     "name": "stdout",
     "output_type": "stream",
     "text": [
      "3168685840768\n",
      "3168609698032\n",
      "3168609698064\n",
      "3168685459504\n",
      "3168609698032\n",
      "3168609698064\n",
      "3168609698096\n",
      "3168684320560\n",
      "3168684322032\n",
      "140729355979624\n",
      "140729355979624\n"
     ]
    }
   ],
   "source": [
    "#example\n",
    "l=[1,2,3,'dhadj',577]\n",
    "print(id(l))\n",
    "print(id(l[0]))\n",
    "print(id(l[1]))\n",
    "print(id(l[3]))\n",
    "print(id(1))\n",
    "print(id(2))\n",
    "print(id(3))\n",
    "print(id(l[4]))\n",
    "print(id(577))\n",
    "print(id(True))\n",
    "print(id(True))"
   ]
  },
  {
   "cell_type": "markdown",
   "id": "08420fac-2be0-4ac7-9c4f-780ad10f2edf",
   "metadata": {},
   "source": [
    "Characteristics"
   ]
  },
  {
   "cell_type": "code",
   "execution_count": 15,
   "id": "4080b4cc-0de5-4cc1-9e42-91b9f02b742d",
   "metadata": {},
   "outputs": [
    {
     "data": {
      "text/plain": [
       "True"
      ]
     },
     "execution_count": 15,
     "metadata": {},
     "output_type": "execute_result"
    }
   ],
   "source": [
    "l=[1,2,3]\n",
    "l1=[3,2,1]\n",
    "l!=l1\n",
    "#order should be sanme\n",
    "#mutable\n",
    "#can have duplicates\n",
    "#dynamic\n",
    "#can be nested yes\n",
    "#items can be acccessed \n",
    "#can contain any kinds of objects in python\n",
    "\n"
   ]
  },
  {
   "cell_type": "markdown",
   "id": "a247462e-047d-4bf0-8275-671bf58541e8",
   "metadata": {},
   "source": [
    "# list creation\n"
   ]
  },
  {
   "cell_type": "code",
   "execution_count": 20,
   "id": "bf20d459-7016-4f24-b74d-5031dd7694ec",
   "metadata": {},
   "outputs": [
    {
     "name": "stdout",
     "output_type": "stream",
     "text": [
      "[]\n",
      "[1, 2, 3]\n",
      "[1, [1, 2, 3]]\n",
      "[1, [1, 2, [2324, 4342]]]\n"
     ]
    }
   ],
   "source": [
    "print(list())\n",
    "print([1,2,3])\n",
    "print([1,[1,2,3]])\n",
    "print([1,[1,2,[2324,4342]]])"
   ]
  },
  {
   "cell_type": "code",
   "execution_count": 21,
   "id": "853b5f1d-d02e-492b-a8e1-a1f402b5505c",
   "metadata": {},
   "outputs": [
    {
     "name": "stdout",
     "output_type": "stream",
     "text": [
      "['d', 's', 'g', 'y', 'b', 'd']\n"
     ]
    }
   ],
   "source": [
    "#type conversion\n",
    "print(list('dsgybd'))\n"
   ]
  },
  {
   "cell_type": "code",
   "execution_count": 22,
   "id": "ee23951f-c188-4e02-8155-77d65c54c61e",
   "metadata": {},
   "outputs": [
    {
     "name": "stdout",
     "output_type": "stream",
     "text": [
      "1\n",
      "2\n",
      "3\n",
      "4\n",
      "5\n",
      "1\n",
      "5\n"
     ]
    }
   ],
   "source": [
    "#accesssing items from ṭhe list\n",
    "l=[1,2,3,4,5]\n",
    "for i in l:\n",
    "    print(i)\n",
    "print(l[0])\n",
    "print(l[-1])\n"
   ]
  },
  {
   "cell_type": "code",
   "execution_count": 23,
   "id": "731f9c83-222d-4f7e-926f-3d9608747a11",
   "metadata": {},
   "outputs": [
    {
     "name": "stdout",
     "output_type": "stream",
     "text": [
      "[3, 5.5, 5]\n"
     ]
    }
   ],
   "source": [
    "l=[1,2,[3,5.5,5]]\n",
    "print(l[-1])"
   ]
  },
  {
   "cell_type": "code",
   "execution_count": 24,
   "id": "b6173da2-2081-4a84-abfd-be3b708d6100",
   "metadata": {},
   "outputs": [
    {
     "name": "stdout",
     "output_type": "stream",
     "text": [
      "5\n"
     ]
    }
   ],
   "source": [
    "l=[1,2,[3,5.5,5,[4,6,4,3,6]]]\n",
    "print(l[-1][-2])"
   ]
  },
  {
   "cell_type": "code",
   "execution_count": 26,
   "id": "3f465db2-80dd-4b96-af53-cf6639ce9e58",
   "metadata": {},
   "outputs": [
    {
     "data": {
      "text/plain": [
       "[1, 43, 44, 5, [424, 343]]"
      ]
     },
     "execution_count": 26,
     "metadata": {},
     "output_type": "execute_result"
    }
   ],
   "source": [
    "l=[[1,43,44,5,[424,343]],[2,4,5,[433,43,5]]]\n",
    "l[0]"
   ]
  },
  {
   "cell_type": "code",
   "execution_count": 27,
   "id": "532ba5a4-8850-4051-88bf-5fce41562026",
   "metadata": {},
   "outputs": [
    {
     "data": {
      "text/plain": [
       "[2, 4, 5, [433, 43, 5]]"
      ]
     },
     "execution_count": 27,
     "metadata": {},
     "output_type": "execute_result"
    }
   ],
   "source": [
    "l[1]\n"
   ]
  },
  {
   "cell_type": "code",
   "execution_count": 28,
   "id": "6a092292-46b6-4323-be83-665dee19bd45",
   "metadata": {},
   "outputs": [
    {
     "data": {
      "text/plain": [
       "2"
      ]
     },
     "execution_count": 28,
     "metadata": {},
     "output_type": "execute_result"
    }
   ],
   "source": [
    "l[1][0]"
   ]
  },
  {
   "cell_type": "code",
   "execution_count": 31,
   "id": "f008b77b-2239-4003-ae5d-729c01f780cd",
   "metadata": {},
   "outputs": [
    {
     "data": {
      "text/plain": [
       "[1, 2, 3]"
      ]
     },
     "execution_count": 31,
     "metadata": {},
     "output_type": "execute_result"
    }
   ],
   "source": [
    "#slicing operator\n",
    "l=[1,2,3,4,5,56,535,6,6,4,34,244,5]\n",
    "l[0:3]"
   ]
  },
  {
   "cell_type": "code",
   "execution_count": 30,
   "id": "49cd4d17-151b-4632-8feb-317270656aa8",
   "metadata": {},
   "outputs": [
    {
     "data": {
      "text/plain": [
       "[4, 5, 56]"
      ]
     },
     "execution_count": 30,
     "metadata": {},
     "output_type": "execute_result"
    }
   ],
   "source": [
    "l[-3:]"
   ]
  },
  {
   "cell_type": "code",
   "execution_count": 32,
   "id": "19317db3-3835-4c73-8248-099f5b3f2690",
   "metadata": {},
   "outputs": [
    {
     "data": {
      "text/plain": [
       "[6, 34]"
      ]
     },
     "execution_count": 32,
     "metadata": {},
     "output_type": "execute_result"
    }
   ],
   "source": [
    "l[-5:-2:2]"
   ]
  },
  {
   "cell_type": "code",
   "execution_count": 33,
   "id": "fd6a57a7-51f4-4e46-8204-e792b1956041",
   "metadata": {},
   "outputs": [],
   "source": [
    "#adding items to list\n",
    "l.append(\"Sajjan\")"
   ]
  },
  {
   "cell_type": "code",
   "execution_count": 34,
   "id": "7b716949-ccfe-4c85-8586-ece243df1ba1",
   "metadata": {},
   "outputs": [
    {
     "data": {
      "text/plain": [
       "[1, 2, 3, 4, 5, 56, 535, 6, 6, 4, 34, 244, 5, 'Sajjan']"
      ]
     },
     "execution_count": 34,
     "metadata": {},
     "output_type": "execute_result"
    }
   ],
   "source": [
    "l"
   ]
  },
  {
   "cell_type": "code",
   "execution_count": 40,
   "id": "eb5844bc-4ef0-4efb-90f9-f3458bcfc43f",
   "metadata": {},
   "outputs": [
    {
     "data": {
      "text/plain": [
       "[1,\n",
       " 2,\n",
       " 3,\n",
       " 4,\n",
       " 5,\n",
       " 56,\n",
       " 535,\n",
       " 6,\n",
       " 6,\n",
       " 4,\n",
       " 34,\n",
       " 244,\n",
       " 5,\n",
       " 'Sajjan',\n",
       " 1,\n",
       " 2,\n",
       " 4,\n",
       " 8,\n",
       " 1,\n",
       " 2,\n",
       " 4,\n",
       " 8,\n",
       " 1,\n",
       " 2,\n",
       " 4,\n",
       " 8,\n",
       " [12, 3, 4],\n",
       " 1,\n",
       " 2,\n",
       " 4,\n",
       " 8,\n",
       " [12, 3, 4]]"
      ]
     },
     "execution_count": 40,
     "metadata": {},
     "output_type": "execute_result"
    }
   ],
   "source": [
    "#extend multiple items can be added\n",
    "l.extend((1,2,4,8)) #adds as an element\n",
    "l\n",
    "l.append([12,3,4])\n",
    "l\n"
   ]
  },
  {
   "cell_type": "code",
   "execution_count": 41,
   "id": "9b71bd12-915b-46c0-baab-5c1f941035ee",
   "metadata": {},
   "outputs": [],
   "source": [
    "l.append([4,5,7])"
   ]
  },
  {
   "cell_type": "code",
   "execution_count": 42,
   "id": "19c8cb19-9b5b-4800-aed8-e9ab23da74e3",
   "metadata": {},
   "outputs": [
    {
     "data": {
      "text/plain": [
       "[1,\n",
       " 2,\n",
       " 3,\n",
       " 4,\n",
       " 5,\n",
       " 56,\n",
       " 535,\n",
       " 6,\n",
       " 6,\n",
       " 4,\n",
       " 34,\n",
       " 244,\n",
       " 5,\n",
       " 'Sajjan',\n",
       " 1,\n",
       " 2,\n",
       " 4,\n",
       " 8,\n",
       " 1,\n",
       " 2,\n",
       " 4,\n",
       " 8,\n",
       " 1,\n",
       " 2,\n",
       " 4,\n",
       " 8,\n",
       " [12, 3, 4],\n",
       " 1,\n",
       " 2,\n",
       " 4,\n",
       " 8,\n",
       " [12, 3, 4],\n",
       " [4, 5, 7]]"
      ]
     },
     "execution_count": 42,
     "metadata": {},
     "output_type": "execute_result"
    }
   ],
   "source": [
    "l"
   ]
  },
  {
   "cell_type": "code",
   "execution_count": 47,
   "id": "6305a001-facb-4313-8b94-80f197405545",
   "metadata": {},
   "outputs": [
    {
     "data": {
      "text/plain": [
       "[1,\n",
       " 2,\n",
       " 3,\n",
       " 4,\n",
       " 5,\n",
       " 56,\n",
       " 535,\n",
       " 6,\n",
       " 6,\n",
       " 4,\n",
       " 34,\n",
       " 244,\n",
       " 5,\n",
       " 'Sajjan',\n",
       " 1,\n",
       " 2,\n",
       " 4,\n",
       " 8,\n",
       " 1,\n",
       " 2,\n",
       " 4,\n",
       " 8,\n",
       " 1,\n",
       " 2,\n",
       " 4,\n",
       " 8,\n",
       " [12, 3, 4],\n",
       " 1,\n",
       " 2,\n",
       " 4,\n",
       " 8,\n",
       " [12, 3, 4],\n",
       " [4, 5, 7],\n",
       " (1, 2),\n",
       " 'D',\n",
       " 'e',\n",
       " 'l',\n",
       " 'h',\n",
       " 'i',\n",
       " 'D',\n",
       " 'e',\n",
       " 'l',\n",
       " 'h',\n",
       " 'i',\n",
       " ' ',\n",
       " 'i',\n",
       " 's',\n",
       " ' ',\n",
       " 'f',\n",
       " 'j',\n",
       " 'n',\n",
       " ' ',\n",
       " 'h',\n",
       " 'f']"
      ]
     },
     "execution_count": 47,
     "metadata": {},
     "output_type": "execute_result"
    }
   ],
   "source": [
    "l.extend('Delhi is fjn hf')\n",
    "l"
   ]
  },
  {
   "cell_type": "code",
   "execution_count": 56,
   "id": "11b1f5fb-3e7b-4b07-9eec-b694f4419982",
   "metadata": {},
   "outputs": [],
   "source": [
    "#insert for desired location\n",
    "#insert(index,element)\n",
    "l=[1,2,3,4,5,55,6]"
   ]
  },
  {
   "cell_type": "code",
   "execution_count": 57,
   "id": "918197f6-ed4b-4396-a09e-1497eb1f66b7",
   "metadata": {},
   "outputs": [],
   "source": [
    "l.insert(2,9) # by def last position if index out of range is given"
   ]
  },
  {
   "cell_type": "code",
   "execution_count": 58,
   "id": "6c3b4f17-de87-49b4-852d-a6ab6e22ca66",
   "metadata": {},
   "outputs": [
    {
     "data": {
      "text/plain": [
       "[1, 2, 9, 3, 4, 5, 55, 6]"
      ]
     },
     "execution_count": 58,
     "metadata": {},
     "output_type": "execute_result"
    }
   ],
   "source": [
    "l"
   ]
  },
  {
   "cell_type": "code",
   "execution_count": 59,
   "id": "e959eed7-3f7a-4cc9-97fb-2fd9d080c1ec",
   "metadata": {},
   "outputs": [],
   "source": [
    "#editing strings\n",
    "l[-1]=600"
   ]
  },
  {
   "cell_type": "code",
   "execution_count": 60,
   "id": "88328cec-b459-494e-99b2-d3316e456306",
   "metadata": {},
   "outputs": [
    {
     "data": {
      "text/plain": [
       "[1, 2, 9, 3, 4, 5, 55, 600]"
      ]
     },
     "execution_count": 60,
     "metadata": {},
     "output_type": "execute_result"
    }
   ],
   "source": [
    "l"
   ]
  },
  {
   "cell_type": "code",
   "execution_count": 61,
   "id": "85d91d8d-fe41-4840-b047-a4289f8dc7b3",
   "metadata": {},
   "outputs": [],
   "source": [
    "l[1:4]=[200,300]"
   ]
  },
  {
   "cell_type": "code",
   "execution_count": 62,
   "id": "aa3d01fe-133a-4f7d-ba7e-3b8ca0ca4fdb",
   "metadata": {},
   "outputs": [
    {
     "data": {
      "text/plain": [
       "[1, 200, 300, 4, 5, 55, 600]"
      ]
     },
     "execution_count": 62,
     "metadata": {},
     "output_type": "execute_result"
    }
   ],
   "source": [
    "l"
   ]
  },
  {
   "cell_type": "code",
   "execution_count": 63,
   "id": "3558adef-f3ef-43fd-93a0-8e395b2307c4",
   "metadata": {},
   "outputs": [],
   "source": [
    "l[1:2]=[13,43,5,25,6,32]"
   ]
  },
  {
   "cell_type": "code",
   "execution_count": 64,
   "id": "771d4141-0e98-4fdf-9a56-22a9bd833ff3",
   "metadata": {},
   "outputs": [
    {
     "data": {
      "text/plain": [
       "[1, 13, 43, 5, 25, 6, 32, 300, 4, 5, 55, 600]"
      ]
     },
     "execution_count": 64,
     "metadata": {},
     "output_type": "execute_result"
    }
   ],
   "source": [
    "l"
   ]
  },
  {
   "cell_type": "code",
   "execution_count": 67,
   "id": "1759abf8-8261-411e-a172-092922f06876",
   "metadata": {},
   "outputs": [],
   "source": [
    "#deletion del pop and remove\n",
    "del l[-1]\n",
    "del l[1:3]"
   ]
  },
  {
   "cell_type": "code",
   "execution_count": 68,
   "id": "efb1f29d-1e38-4d99-823f-56962a0e18ab",
   "metadata": {},
   "outputs": [
    {
     "data": {
      "text/plain": [
       "[1, 5, 25, 6, 32, 300, 4, 5, 55]"
      ]
     },
     "execution_count": 68,
     "metadata": {},
     "output_type": "execute_result"
    }
   ],
   "source": [
    "l\n"
   ]
  },
  {
   "cell_type": "code",
   "execution_count": 69,
   "id": "f126e194-96ee-4437-adb6-f2068bfcd777",
   "metadata": {},
   "outputs": [],
   "source": [
    "#remove\n",
    "l.remove(5) #no need of index"
   ]
  },
  {
   "cell_type": "code",
   "execution_count": 70,
   "id": "4cd1eda4-2972-4f97-887a-69caace2373c",
   "metadata": {},
   "outputs": [
    {
     "data": {
      "text/plain": [
       "[1, 25, 6, 32, 300, 4, 5, 55]"
      ]
     },
     "execution_count": 70,
     "metadata": {},
     "output_type": "execute_result"
    }
   ],
   "source": [
    "l\n"
   ]
  },
  {
   "cell_type": "code",
   "execution_count": 72,
   "id": "66d588f8-5274-4b42-9913-80a158a00f22",
   "metadata": {},
   "outputs": [],
   "source": [
    "l.remove(5)"
   ]
  },
  {
   "cell_type": "code",
   "execution_count": 73,
   "id": "7bb1dcc5-16c8-4460-b462-2bcf2f6302df",
   "metadata": {},
   "outputs": [
    {
     "data": {
      "text/plain": [
       "[1, 25, 6, 32, 300, 4, 55]"
      ]
     },
     "execution_count": 73,
     "metadata": {},
     "output_type": "execute_result"
    }
   ],
   "source": [
    "l"
   ]
  },
  {
   "cell_type": "code",
   "execution_count": 74,
   "id": "87ff3afa-6158-4851-ad95-7b14bbda65cf",
   "metadata": {},
   "outputs": [
    {
     "data": {
      "text/plain": [
       "55"
      ]
     },
     "execution_count": 74,
     "metadata": {},
     "output_type": "execute_result"
    }
   ],
   "source": [
    "l.pop()"
   ]
  },
  {
   "cell_type": "code",
   "execution_count": 77,
   "id": "4abd8764-f1d4-4a74-9f90-9b496af0cb76",
   "metadata": {},
   "outputs": [
    {
     "data": {
      "text/plain": [
       "25"
      ]
     },
     "execution_count": 77,
     "metadata": {},
     "output_type": "execute_result"
    }
   ],
   "source": [
    "l.pop(0) # can give index otherwise last element is popped"
   ]
  },
  {
   "cell_type": "code",
   "execution_count": 78,
   "id": "ad79998e-bc3b-4051-a9f6-692329db9e9f",
   "metadata": {},
   "outputs": [
    {
     "data": {
      "text/plain": [
       "[6, 32, 300, 4]"
      ]
     },
     "execution_count": 78,
     "metadata": {},
     "output_type": "execute_result"
    }
   ],
   "source": [
    "l"
   ]
  },
  {
   "cell_type": "code",
   "execution_count": 79,
   "id": "3502cbcd-a40f-48b4-b3a0-0330f78ce31e",
   "metadata": {},
   "outputs": [
    {
     "data": {
      "text/plain": [
       "[]"
      ]
     },
     "execution_count": 79,
     "metadata": {},
     "output_type": "execute_result"
    }
   ],
   "source": [
    "#clear()\n",
    "l.clear()\n",
    "l"
   ]
  },
  {
   "cell_type": "code",
   "execution_count": 136,
   "id": "850b29b3-c279-455d-a82c-18ecec79e23a",
   "metadata": {},
   "outputs": [
    {
     "data": {
      "text/plain": [
       "[1, 2, 3, 4, 4, 5]"
      ]
     },
     "execution_count": 136,
     "metadata": {},
     "output_type": "execute_result"
    }
   ],
   "source": [
    "#operations on list\n",
    "#arithmetic * and +\n",
    "l=[1,2,3]\n",
    "l=l+[4,4,5]\n",
    "l\n"
   ]
  },
  {
   "cell_type": "code",
   "execution_count": 81,
   "id": "4d8d4a8a-bc5c-40aa-b568-a81ad60b9ba2",
   "metadata": {},
   "outputs": [],
   "source": [
    "l=l*4"
   ]
  },
  {
   "cell_type": "code",
   "execution_count": 83,
   "id": "6acb51bd-5fb4-473c-80be-78036d0272d3",
   "metadata": {},
   "outputs": [
    {
     "data": {
      "text/plain": [
       "[1, 2, 3, 4, 4, 5, 1, 2, 3, 4, 4, 5, 1, 2, 3, 4, 4, 5, 1, 2, 3, 4, 4, 5]"
      ]
     },
     "execution_count": 83,
     "metadata": {},
     "output_type": "execute_result"
    }
   ],
   "source": [
    "l"
   ]
  },
  {
   "cell_type": "code",
   "execution_count": 84,
   "id": "6a62a09d-543b-4c06-a3e1-19adac3601d5",
   "metadata": {},
   "outputs": [],
   "source": [
    "l.clear()"
   ]
  },
  {
   "cell_type": "code",
   "execution_count": 86,
   "id": "1ba822af-ca2a-42af-af7f-5f65f6b28e56",
   "metadata": {},
   "outputs": [],
   "source": [
    "#l*[1,2,3] error"
   ]
  },
  {
   "cell_type": "code",
   "execution_count": 91,
   "id": "a75f7905-5cdc-493a-9f6a-9d11b11f64cd",
   "metadata": {},
   "outputs": [
    {
     "data": {
      "text/plain": [
       "[]"
      ]
     },
     "execution_count": 91,
     "metadata": {},
     "output_type": "execute_result"
    }
   ],
   "source": [
    "l=[1,2]\n",
    "l*False"
   ]
  },
  {
   "cell_type": "code",
   "execution_count": 95,
   "id": "93420978-165e-4044-99c3-5945e9c110b4",
   "metadata": {},
   "outputs": [],
   "source": [
    "2 in l\n",
    "l = [[5,6] ,1]"
   ]
  },
  {
   "cell_type": "code",
   "execution_count": 96,
   "id": "481683b1-fa18-4352-8c0d-cb289f480e86",
   "metadata": {},
   "outputs": [
    {
     "data": {
      "text/plain": [
       "True"
      ]
     },
     "execution_count": 96,
     "metadata": {},
     "output_type": "execute_result"
    }
   ],
   "source": [
    "[5,6] in l"
   ]
  },
  {
   "cell_type": "code",
   "execution_count": 97,
   "id": "71184f52-9966-44ef-81fc-8e08ec6638ef",
   "metadata": {},
   "outputs": [
    {
     "name": "stdout",
     "output_type": "stream",
     "text": [
      "1\n",
      "2\n",
      "3\n",
      "4\n",
      "[5, 6]\n"
     ]
    }
   ],
   "source": [
    "#loops in python\n",
    "l=[1,2,3,4,5]\n",
    "l2=[1,2,3,4,[5,6]]\n",
    "for i in l2:\n",
    "    print(i)\n",
    "    "
   ]
  },
  {
   "cell_type": "code",
   "execution_count": 137,
   "id": "6cc56752-89d6-4c39-98d8-83462a5b0ab6",
   "metadata": {},
   "outputs": [],
   "source": [
    "#list functions len min max sorted\n",
    "len(l)\n",
    "l=[1,2,3,6.7]"
   ]
  },
  {
   "cell_type": "code",
   "execution_count": 110,
   "id": "428952b6-a236-4f06-a041-3970fba5a014",
   "metadata": {},
   "outputs": [
    {
     "data": {
      "text/plain": [
       "[1, 2, 3, 6.7]"
      ]
     },
     "execution_count": 110,
     "metadata": {},
     "output_type": "execute_result"
    }
   ],
   "source": [
    "sorted(l)#supports on homogenpus list only"
   ]
  },
  {
   "cell_type": "code",
   "execution_count": 111,
   "id": "c8fa0cc5-0f11-4586-ae1e-fce973aeeaec",
   "metadata": {},
   "outputs": [],
   "source": [
    "l.sort(reverse=True) # supports on homogenpus list only"
   ]
  },
  {
   "cell_type": "code",
   "execution_count": 112,
   "id": "1a765c2f-5713-4fa6-9eba-5158ccb22d51",
   "metadata": {},
   "outputs": [
    {
     "data": {
      "text/plain": [
       "[6.7, 3, 2, 1]"
      ]
     },
     "execution_count": 112,
     "metadata": {},
     "output_type": "execute_result"
    }
   ],
   "source": [
    "l"
   ]
  },
  {
   "cell_type": "code",
   "execution_count": 113,
   "id": "c5e1ed06-df23-4647-a56c-c2869643c598",
   "metadata": {},
   "outputs": [
    {
     "data": {
      "text/plain": [
       "6.7"
      ]
     },
     "execution_count": 113,
     "metadata": {},
     "output_type": "execute_result"
    }
   ],
   "source": [
    "max(l)\n"
   ]
  },
  {
   "cell_type": "code",
   "execution_count": 114,
   "id": "33c0129b-2a16-4e6a-9884-82a118cb6c51",
   "metadata": {},
   "outputs": [
    {
     "data": {
      "text/plain": [
       "1"
      ]
     },
     "execution_count": 114,
     "metadata": {},
     "output_type": "execute_result"
    }
   ],
   "source": [
    "min(l)"
   ]
  },
  {
   "cell_type": "code",
   "execution_count": 118,
   "id": "50d5199f-fe6d-4624-94c1-fa9802544664",
   "metadata": {},
   "outputs": [
    {
     "data": {
      "text/plain": [
       "0"
      ]
     },
     "execution_count": 118,
     "metadata": {},
     "output_type": "execute_result"
    }
   ],
   "source": [
    "#count counts frequency of item\n",
    "l.count(0)"
   ]
  },
  {
   "cell_type": "code",
   "execution_count": 138,
   "id": "cbef031b-0aeb-4480-bb8f-0ea7ca9538b4",
   "metadata": {},
   "outputs": [],
   "source": [
    "l[0:1]=[1,1,1]\n"
   ]
  },
  {
   "cell_type": "code",
   "execution_count": 125,
   "id": "f75fa4a1-afba-4a5c-a0a0-825054550d8d",
   "metadata": {},
   "outputs": [
    {
     "data": {
      "text/plain": [
       "2"
      ]
     },
     "execution_count": 125,
     "metadata": {},
     "output_type": "execute_result"
    }
   ],
   "source": [
    "#index\n",
    "l.index(1,2,4) # can give range"
   ]
  },
  {
   "cell_type": "code",
   "execution_count": 121,
   "id": "5d656c5b-63c7-4ded-b4a5-f9e78e200efa",
   "metadata": {},
   "outputs": [
    {
     "ename": "ValueError",
     "evalue": "10 is not in list",
     "output_type": "error",
     "traceback": [
      "\u001b[1;31m---------------------------------------------------------------------------\u001b[0m",
      "\u001b[1;31mValueError\u001b[0m                                Traceback (most recent call last)",
      "Cell \u001b[1;32mIn[121], line 1\u001b[0m\n\u001b[1;32m----> 1\u001b[0m \u001b[43ml\u001b[49m\u001b[38;5;241;43m.\u001b[39;49m\u001b[43mindex\u001b[49m\u001b[43m(\u001b[49m\u001b[38;5;241;43m10\u001b[39;49m\u001b[43m)\u001b[49m\n",
      "\u001b[1;31mValueError\u001b[0m: 10 is not in list"
     ]
    }
   ],
   "source": [
    "l.index(10) #error if not in list"
   ]
  },
  {
   "cell_type": "code",
   "execution_count": 139,
   "id": "558b226c-c351-4884-aa2d-05992e80168b",
   "metadata": {},
   "outputs": [],
   "source": [
    "l.reverse()"
   ]
  },
  {
   "cell_type": "code",
   "execution_count": 140,
   "id": "19a929f2-eff0-4af7-9189-c0123c2e76d8",
   "metadata": {},
   "outputs": [
    {
     "data": {
      "text/plain": [
       "[6.7, 3, 2, 1, 1, 1]"
      ]
     },
     "execution_count": 140,
     "metadata": {},
     "output_type": "execute_result"
    }
   ],
   "source": [
    "l"
   ]
  },
  {
   "cell_type": "code",
   "execution_count": 141,
   "id": "162ac5ca-1486-43f9-a99d-54d87097413b",
   "metadata": {},
   "outputs": [],
   "source": [
    "l.sort()"
   ]
  },
  {
   "cell_type": "code",
   "execution_count": 142,
   "id": "96098504-e9e6-482b-a9b7-51b927a5143b",
   "metadata": {},
   "outputs": [
    {
     "data": {
      "text/plain": [
       "[1, 1, 1, 2, 3, 6.7]"
      ]
     },
     "execution_count": 142,
     "metadata": {},
     "output_type": "execute_result"
    }
   ],
   "source": [
    "l\n"
   ]
  },
  {
   "cell_type": "code",
   "execution_count": 143,
   "id": "1adcb020-78d2-48b2-966a-b3d2e64b64e1",
   "metadata": {},
   "outputs": [],
   "source": [
    "l.sort(reverse=True)"
   ]
  },
  {
   "cell_type": "code",
   "execution_count": 144,
   "id": "3969daa2-7d6e-4f28-acec-47337131b7ac",
   "metadata": {},
   "outputs": [
    {
     "data": {
      "text/plain": [
       "[6.7, 3, 2, 1, 1, 1]"
      ]
     },
     "execution_count": 144,
     "metadata": {},
     "output_type": "execute_result"
    }
   ],
   "source": [
    "l"
   ]
  },
  {
   "cell_type": "code",
   "execution_count": 145,
   "id": "8cdd717b-c5f8-4c45-8cc3-d0892c2e206b",
   "metadata": {},
   "outputs": [
    {
     "data": {
      "text/plain": [
       "[6.7, 3, 2, 1, 1, 1]"
      ]
     },
     "execution_count": 145,
     "metadata": {},
     "output_type": "execute_result"
    }
   ],
   "source": [
    "sorted(l,reverse=True)"
   ]
  },
  {
   "cell_type": "code",
   "execution_count": null,
   "id": "2df60e12-c143-4d7c-98d7-7c3243072071",
   "metadata": {},
   "outputs": [],
   "source": []
  }
 ],
 "metadata": {
  "kernelspec": {
   "display_name": "Python 3 (ipykernel)",
   "language": "python",
   "name": "python3"
  },
  "language_info": {
   "codemirror_mode": {
    "name": "ipython",
    "version": 3
   },
   "file_extension": ".py",
   "mimetype": "text/x-python",
   "name": "python",
   "nbconvert_exporter": "python",
   "pygments_lexer": "ipython3",
   "version": "3.10.2"
  }
 },
 "nbformat": 4,
 "nbformat_minor": 5
}
